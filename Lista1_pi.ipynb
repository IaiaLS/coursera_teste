{
  "nbformat": 4,
  "nbformat_minor": 0,
  "metadata": {
    "colab": {
      "provenance": [],
      "authorship_tag": "ABX9TyPd03cRbU5y4QkbdD8N3Giw",
      "include_colab_link": true
    },
    "kernelspec": {
      "name": "python3",
      "display_name": "Python 3"
    },
    "language_info": {
      "name": "python"
    }
  },
  "cells": [
    {
      "cell_type": "markdown",
      "metadata": {
        "id": "view-in-github",
        "colab_type": "text"
      },
      "source": [
        "<a href=\"https://colab.research.google.com/github/IaiaLS/coursera_teste/blob/master/Lista1_pi.ipynb\" target=\"_parent\"><img src=\"https://colab.research.google.com/assets/colab-badge.svg\" alt=\"Open In Colab\"/></a>"
      ]
    },
    {
      "cell_type": "code",
      "execution_count": null,
      "metadata": {
        "id": "DDynuNbUjN9g"
      },
      "outputs": [],
      "source": []
    },
    {
      "cell_type": "markdown",
      "source": [
        "Desenvolva um programa para calcular a média das\n",
        "seguintes notas 7.5, 4.5 e 9"
      ],
      "metadata": {
        "id": "OampD3VRjceF"
      }
    },
    {
      "cell_type": "code",
      "source": [
        "media = (7.5 + 4.5 + 9) / 3\n",
        "print(media)"
      ],
      "metadata": {
        "colab": {
          "base_uri": "https://localhost:8080/"
        },
        "id": "otD8RN2ejdgj",
        "outputId": "3761c7d0-8377-484f-bf0d-6204e9060a9b"
      },
      "execution_count": null,
      "outputs": [
        {
          "output_type": "stream",
          "name": "stdout",
          "text": [
            "7.0\n"
          ]
        }
      ]
    },
    {
      "cell_type": "markdown",
      "source": [
        "Desenvolva um programa para calcular a área de um\n",
        "quadrado de 350 m de lado"
      ],
      "metadata": {
        "id": "Jn0At31Mj4S9"
      }
    },
    {
      "cell_type": "code",
      "source": [
        "area = 350*350\n",
        "print(area)"
      ],
      "metadata": {
        "colab": {
          "base_uri": "https://localhost:8080/"
        },
        "id": "7OmBbpeuj5QE",
        "outputId": "8c2a5d80-547c-4e77-824a-137d2b49899d"
      },
      "execution_count": null,
      "outputs": [
        {
          "output_type": "stream",
          "name": "stdout",
          "text": [
            "122500\n"
          ]
        }
      ]
    },
    {
      "cell_type": "markdown",
      "source": [
        "Desenvolva um programa para calcular a área de uma\n",
        "circunferência com raio 5 cm"
      ],
      "metadata": {
        "id": "6WiA5mchkHZb"
      }
    },
    {
      "cell_type": "code",
      "source": [
        "area_circunferencia = 3.14159 * (5**2)\n",
        "print(area_circunferencia)"
      ],
      "metadata": {
        "colab": {
          "base_uri": "https://localhost:8080/"
        },
        "id": "2v62VrElkIlU",
        "outputId": "b0864034-05a6-453d-ca62-ef1884e82827"
      },
      "execution_count": null,
      "outputs": [
        {
          "output_type": "stream",
          "name": "stdout",
          "text": [
            "78.53975\n"
          ]
        }
      ]
    },
    {
      "cell_type": "markdown",
      "source": [
        "Desenvolva um programa para imprimir a soma das\n",
        "seguintes strings “Hugo”, “gastou 50 reais”, “ontem”."
      ],
      "metadata": {
        "id": "rUb0mb_vlG_y"
      }
    },
    {
      "cell_type": "code",
      "source": [
        "string_soma = \"Hugo\"+\"gastou 50 reais\" +\"ontem\"\n",
        "print(string_soma)"
      ],
      "metadata": {
        "colab": {
          "base_uri": "https://localhost:8080/"
        },
        "id": "6oMX7XhjlJV6",
        "outputId": "10b26288-df25-44bc-c63d-d9856db672c9"
      },
      "execution_count": null,
      "outputs": [
        {
          "output_type": "stream",
          "name": "stdout",
          "text": [
            "Hugogastou 50 reaisontem\n"
          ]
        }
      ]
    },
    {
      "cell_type": "markdown",
      "source": [
        "Construir um programa que calcule a área de um triângulo. (\n",
        "at = (altura*base) / 2 )."
      ],
      "metadata": {
        "id": "DaJrK3qyloL4"
      }
    },
    {
      "cell_type": "code",
      "source": [
        "print(\"Calculo da area de um triangulo\")\n",
        "base = input(\"Informe a base: \")\n",
        "altura = input(\"Informe a altura: \")\n",
        "area = (int(altura)*int(base)) / 2\n",
        "print(area)"
      ],
      "metadata": {
        "colab": {
          "base_uri": "https://localhost:8080/"
        },
        "id": "YdWUNSgnlo_L",
        "outputId": "e24622db-66be-4ab9-faa8-b9bc6d204b62"
      },
      "execution_count": null,
      "outputs": [
        {
          "output_type": "stream",
          "name": "stdout",
          "text": [
            "Calculo da area de um triangulo\n",
            "Informe a base: 5\n",
            "Informe a altura: 6\n",
            "15.0\n"
          ]
        }
      ]
    },
    {
      "cell_type": "markdown",
      "source": [
        "Construir um programa que leia quatro notas (real) e\n",
        "imprima a média aritmética."
      ],
      "metadata": {
        "id": "dowl9o9jl0Hj"
      }
    },
    {
      "cell_type": "code",
      "source": [
        "78\n",
        "print(\"Calcular media de 4 notas\")\n",
        "n1 = float(input(\"Informe a nota 1: \"))\n",
        "n2 = float(input(\"Informe a nota 2: \"))\n",
        "n3 = float(input(\"Informe a nota 3: \"))\n",
        "n4 = float(input(\"Informe a nota 4: \"))\n",
        "media = (n1+n2+n3+n4)/4\n",
        "print(media)"
      ],
      "metadata": {
        "colab": {
          "base_uri": "https://localhost:8080/"
        },
        "id": "ho6Jwgvzso7c",
        "outputId": "0ca5ba67-c86e-4bbe-9d96-ac59545bf7ec"
      },
      "execution_count": null,
      "outputs": [
        {
          "output_type": "stream",
          "name": "stdout",
          "text": [
            "Calcular media de 4 notas\n",
            "Informe a nota 1: 5\n",
            "Informe a nota 2: 3\n",
            "Informe a nota 3: 6\n",
            "Informe a nota 4: 9\n",
            "5.75\n"
          ]
        }
      ]
    },
    {
      "cell_type": "markdown",
      "source": [
        "Construir um programa para ler dois números inteiros e\n",
        "imprimir o seu produto"
      ],
      "metadata": {
        "id": "b0mY09iBnCtd"
      }
    },
    {
      "cell_type": "code",
      "source": [
        "print(\"Produto de dois números\")\n",
        "numero1 = int(input(\"Informe o primeiro numero: \"))\n",
        "numero2 = int(input(\"Informe o segundo numero: \"))\n",
        "produto = numero1 * numero2\n",
        "print(\"O produto de %d com %d é %d\"% (numero1,numero2,produto))"
      ],
      "metadata": {
        "colab": {
          "base_uri": "https://localhost:8080/"
        },
        "id": "FLIPkfzgnDtP",
        "outputId": "646f212a-d186-4815-ca19-c27333c0b218"
      },
      "execution_count": null,
      "outputs": [
        {
          "output_type": "stream",
          "name": "stdout",
          "text": [
            "Produto de dois números\n",
            "Informe o primeiro numero: 3\n",
            "Informe o segundo numero: 9\n",
            "O produto de 3 com 9 é 27\n"
          ]
        }
      ]
    },
    {
      "cell_type": "markdown",
      "source": [
        "Construir um programa que leia o ano de nascimento de uma\n",
        "pessoa e o ano atual, calcule e mostre:\n",
        "• A idade dessa pessoa;\n",
        "• Quantos anos essa pessoa terá em 2040"
      ],
      "metadata": {
        "id": "pyzgPc86nMSM"
      }
    },
    {
      "cell_type": "markdown",
      "source": [],
      "metadata": {
        "id": "CF8BFxwGnUx-"
      }
    },
    {
      "cell_type": "code",
      "source": [
        "print(\"Idade agora e em 2040\")\n",
        "ano_nascimento = int(input(\"Informe o ano de nascimento: \"))\n",
        "ano_atual = int(input(\"Informe o ano atual: \"))\n",
        "idade = ano_atual - ano_nascimento\n",
        "idade_2040 = 2040 - ano_nascimento\n",
        "print(\"Sua idade é %d anos\" %idade)\n",
        "print(\"Sua idade em 2040 será %d anos.\" %idade_2040)"
      ],
      "metadata": {
        "colab": {
          "base_uri": "https://localhost:8080/"
        },
        "id": "QLuzC7wSoFcc",
        "outputId": "c355d0d9-0e1b-4b6c-d7b7-55c886c5dbc4"
      },
      "execution_count": null,
      "outputs": [
        {
          "output_type": "stream",
          "name": "stdout",
          "text": [
            "Idade agora e em 2040\n",
            "Informe o ano de nascimento: 1995\n",
            "Informe o ano atual: 2025\n",
            "Sua idade é 30 anos\n",
            "Sua idade em 2040 será 45 anos.\n"
          ]
        }
      ]
    },
    {
      "cell_type": "markdown",
      "source": [
        "Construir um programa para calcular:\n",
        "• O quadrado de 10;\n",
        "• O cubo de 3;\n",
        "• Resto da divisão de 1000 por 3.5"
      ],
      "metadata": {
        "id": "c6fxDDrdpelL"
      }
    },
    {
      "cell_type": "code",
      "source": [
        "print(\"questão 9\")\n",
        "quadrado10 = 10**2\n",
        "cubo3 = 3**3\n",
        "resto = 1000%(3.5)\n",
        "print(\"O quadrado de 10 é %d\" %quadrado10)\n",
        "print(\"O cubo de 3 é %d\" %cubo3)\n",
        "print(\"O resto da divisão de 1000 por 3.5 é %.2f\" %resto)"
      ],
      "metadata": {
        "colab": {
          "base_uri": "https://localhost:8080/"
        },
        "id": "MmI2InJ4pfXz",
        "outputId": "a17a3b75-4b04-42cf-b788-55ae9001707d"
      },
      "execution_count": null,
      "outputs": [
        {
          "output_type": "stream",
          "name": "stdout",
          "text": [
            "questão 9\n",
            "O quadrado de 10 é 100\n",
            "O cubo de 3 é 27\n",
            "O resto da divisão de 1000 por 3.5 é 2.50\n"
          ]
        }
      ]
    },
    {
      "cell_type": "markdown",
      "source": [
        "Escreva um programa que solicite do usuário o comprimento\n",
        "e a largura de sua sala. Seu programa deve computar e\n",
        "apresentar a área da sala (os valores devem ser aceitos em\n",
        "formato float)"
      ],
      "metadata": {
        "id": "BASiQuNZqHWz"
      }
    },
    {
      "cell_type": "code",
      "source": [
        "print(\"Calcular a área da sala\")\n",
        "comprimento = float(input(\"Informe o comprimento: \"))\n",
        "largura = float(input(\"Informe a largura: \"))\n",
        "area = comprimento * largura\n",
        "print(\"A área da sala é %.2f\" %area)"
      ],
      "metadata": {
        "colab": {
          "base_uri": "https://localhost:8080/"
        },
        "id": "P-lOEqVArrFz",
        "outputId": "560e6d91-5225-49b2-968c-305541247931"
      },
      "execution_count": null,
      "outputs": [
        {
          "output_type": "stream",
          "name": "stdout",
          "text": [
            "Calcular a área da sala\n",
            "Informe o comprimento: 36\n",
            "Informe a largura: 45\n",
            "A área da sala é 1620.00\n"
          ]
        }
      ]
    },
    {
      "cell_type": "markdown",
      "source": [
        "Desenvolva um programa para ler o valor da conta do\n",
        "restaurante e calcular a gorjeta (geralmente 10%). O\n",
        "programa deve apresentar ao usuário o total da conta sem a\n",
        "gorjeta, o valor da gorjeta e o total da soma (valores devem\n",
        "considerer decimais)."
      ],
      "metadata": {
        "id": "2MaxGdN3qwR5"
      }
    },
    {
      "cell_type": "code",
      "source": [
        "print(\"Calculo da Gorjeta\")\n",
        "conta = float(input(\"Informe o valor da conta: \"))\n",
        "gorjeta = conta*0.1\n",
        "conta_sem_gorjeta= conta - gorjeta\n",
        "print(\"O valor da conta é %.2f\" %conta)\n",
        "print(\"O valor da conta sem gorjeta é %.2f\" %conta_sem_gorjeta)\n",
        "print(\"O valor da gorjeta é %.2f\" %gorjeta)"
      ],
      "metadata": {
        "colab": {
          "base_uri": "https://localhost:8080/"
        },
        "id": "q3Rv_8Irq0YD",
        "outputId": "869b90f3-18ce-4bfe-b391-79e6dc1162aa"
      },
      "execution_count": null,
      "outputs": [
        {
          "output_type": "stream",
          "name": "stdout",
          "text": [
            "Calculo da Gorjeta\n",
            "Informe o valor da conta550\n",
            "O valor da conta é 550.00\n",
            "O valor da conta sem gorjeta é 495.00\n",
            "O valor da gorjeta é 55.00\n"
          ]
        }
      ]
    }
  ]
}